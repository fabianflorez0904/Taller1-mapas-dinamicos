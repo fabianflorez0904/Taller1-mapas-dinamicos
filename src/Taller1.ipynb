{
 "cells": [
  {
   "cell_type": "markdown",
   "metadata": {},
   "source": [
    "# **Taller 1 de Sistemas Basados en Geolocalización**\n",
    "\n",
    "## Introducción\n",
    "Este taller tiene como objetivo aplicar conceptos de geolocalización y cálculo de distancias utilizando la fórmula de Haversine. Además, se explorará la variación del área de la Laguna de Fúquene a lo largo del tiempo para evaluar su impacto en la delimitación de terrenos y desplazamiento de poblaciones. Los resultados deberán ser sustentados mediante mapas dinámicos y análisis comparativos.\n",
    "\n",
    "---\n",
    "\n",
    "## Profesor: Carlos Armando López Solano, MSc.\n",
    "\n",
    "### 1. Cálculo de distancias con la fórmula de Haversine\n",
    "Desarrolle un sistema de software que, mediante el uso de la fórmula de Haversine, calcule la distancia en cada caso:\n",
    "\n",
    "| Caso | Φ₁ (Latitud 1) | λ₁ (Longitud 1) | Φ₂ (Latitud 2) | λ₂ (Longitud 2) |\n",
    "|------|---------------|---------------|---------------|---------------|\n",
    "| 1    | 4.6369566546922485 | -74.08344303563474 | 4.698387290122269 | -74.08913229761984 |\n",
    "| 2    | 2.4930822620498403 | -76.56469927139997 | 4.553288632232513 | -75.65871130171998 |\n",
    "| 3    | 7.141088134111742 | -73.11869057856512 | 42.35927858183055 | -71.09328053009632 |\n",
    "\n",
    "Luego, compare el resultado obtenido con la medición de dicha distancia utilizando el mapa dinámico de su preferencia.\n",
    "\n",
    "#### Preguntas:\n",
    "- ¿Qué ubicaciones corresponden a las coordenadas dadas?\n",
    "- ¿Qué conclusión puede sacar de estas mediciones?\n",
    "\n",
    "---"
   ]
  },
  {
   "cell_type": "code",
   "execution_count": null,
   "metadata": {},
   "outputs": [],
   "source": [
    "# Import Required Libraries\n",
    "\n",
    "# Import folium library for creating maps\n",
    "import folium\n",
    "import math"
   ]
  },
  {
   "cell_type": "code",
   "execution_count": null,
   "metadata": {},
   "outputs": [],
   "source": [
    "class Coordenada:\n",
    "    def __init__(self,city:str,name:str,latitude:float,longitude:float):\n",
    "        self.city = city\n",
    "        self.name = name\n",
    "        self.latitude = latitude\n",
    "        self.longitude = longitude\n",
    "        \n",
    "    def get_latitude(self):\n",
    "        return self.latitude\n",
    "    \n",
    "    def get_longitude(self):\n",
    "        return self.longitude\n",
    "    \n",
    "    def __str__(self):\n",
    "        return f\"City: {self.city}, Name: {self.name}, Latitude: {self.latitude}, Longitude: {self.longitude}\"\n",
    "    \n",
    "\n",
    "class TierraPlana:\n",
    "    def __init__(self):\n",
    "        self.coordenadas = []\n",
    "        \n",
    "    def agregar_coordenada(self, coordenada:Coordenada):\n",
    "        self.coordenadas.append(coordenada)\n",
    "        \n",
    "    def distancia_entre_coordenadas(self,coordenada1:Coordenada,coordenada2:Coordenada) -> float:\n",
    "        return self.haversine(coordenada1.get_latitude(),coordenada1.get_longitude(),coordenada2.get_latitude(),coordenada2.get_longitude())\n",
    "    \n",
    "    def get_coordenada(self,name:str) -> Coordenada:     \n",
    "        for coordenada in self.coordenadas:\n",
    "            if coordenada.name == name:\n",
    "                return coordenada\n",
    "        return None\n",
    "\n",
    "    def radio_tierra_en_latitud(self, lat:float) -> float:\n",
    "        a = 6378.137  #Radius at sea level at equator\n",
    "        b = 6356.752  #Radius at poles\n",
    "        \n",
    "        c = (a**2*math.cos(lat))**2\n",
    "        d = (b**2*math.sin(lat))**2\n",
    "        e = (a*math.cos(lat))**2\n",
    "        f = (b*math.sin(lat))**2\n",
    "        \n",
    "        return math.sqrt((c+d)/(e+f))\n",
    "\n",
    "    def haversine(self, Lat1:float,Lon1:float,lat2:float,lon2:float) -> float:\n",
    "        # El radio lo calculamos con el prodmedio de las latitudes\n",
    "        R = self.radio_tierra_en_latitud((Lat1+lat2)/2)\n",
    "        \n",
    "        # Calculamos la formula de haversine\n",
    "        dLat = math.radians(lat2 - Lat1)\n",
    "        dLon = math.radians(lon2 - Lon1)\n",
    "        a = math.sin(dLat/2) * math.sin(dLat/2) + math.cos(math.radians(Lat1)) * math.cos(math.radians(lat2)) * math.sin(dLon/2) * math.sin(dLon/2)\n",
    "        c = 2*R*math.atan(math.sqrt(a))\n",
    "        return c\n",
    "    \n",
    "    def mostrar_coordenadas(self):\n",
    "        for coordenada in self.coordenadas:\n",
    "            print(coordenada)\n",
    "\n",
    "class Mapa:\n",
    "    def crear_mapa(self,coordenada1:Coordenada,coordenada2:Coordenada):\n",
    "        \n",
    "        distancia_coordenadas = TierraPlana().distancia_entre_coordenadas(coordenada1,coordenada2)\n",
    "        if distancia_coordenadas < 100:\n",
    "            zoom = 12\n",
    "        elif distancia_coordenadas < 300:\n",
    "            zoom = 8\n",
    "        else:\n",
    "            zoom = 3\n",
    "        \n",
    "        dlat = (coordenada1.get_latitude() + coordenada2.get_latitude())/2\n",
    "        dlon = (coordenada1.get_longitude() + coordenada2.get_longitude())/2\n",
    "        \n",
    "        map_osm = folium.Map(location=[dlat, dlon], zoom_start=zoom)\n",
    "        \n",
    "        folium.Marker(\n",
    "            location=[coordenada1.get_latitude(), coordenada1.get_longitude()],\n",
    "            popup=f\"{coordenada1.city} - {coordenada1.name}\"\n",
    "        ).add_to(map_osm)\n",
    "\n",
    "        folium.Marker(\n",
    "            location=[coordenada2.get_latitude(), coordenada2.get_longitude()],\n",
    "            popup=f\"{coordenada2.city} - {coordenada2.name}\"\n",
    "        ).add_to(map_osm)\n",
    "        \n",
    "        folium.PolyLine(\n",
    "            locations=[[coordenada1.get_latitude(),coordenada1.get_longitude()],[coordenada2.get_latitude(),coordenada2.get_longitude()]],\n",
    "            color=\"#FF0000\",\n",
    "            weight=5,\n",
    "            tooltip=\"Distancia: {:.2f} km\".format(distancia_coordenadas),\n",
    "        ).add_to(map_osm)\n",
    "        return map_osm\n",
    "\n"
   ]
  },
  {
   "cell_type": "code",
   "execution_count": null,
   "metadata": {},
   "outputs": [],
   "source": [
    "casos = [\n",
    "    {\"city\": \"Bogota\", \"name\":\"Universidad Nacional\", \"latitude\": 4.6369566546922485, \"longitude\": -74.08344303563474 },\n",
    "    {\"city\": \"Bogota\", \"name\":\"Universidad Uniminuto\", \"latitude\": 4.698387290122269, \"longitude\": -74.08913229761984 },\n",
    "    {\"city\": \"Popayan\", \"name\":\"Casa de mi EX\", \"latitude\": 2.4930822620498403, \"longitude\": -76.56469927139997},\n",
    "    {\"city\": \"Armenia\", \"name\":\"Universidad del Quindio\", \"latitude\": 4.553288632232513, \"longitude\": -75.65871130171998},\n",
    "    {\"city\": \"Bucaramanga\", \"name\":\"Universidad industrial de Santander\", \"latitude\": 4.553288632232513, \"longitude\": -75.65871130171998},\n",
    "    {\"city\": \"Boston\", \"name\":\"Massachusetts institute of technology\", \"latitude\": 42.35927858183055 , \"longitude\": -71.09328053009632}\n",
    "\n",
    "]\n",
    "\n",
    "tierra_plana = TierraPlana()\n",
    "\n",
    "coordenadas = []\n",
    "\n",
    "for caso in casos:\n",
    "    coordenada = Coordenada(caso[\"city\"],caso[\"name\"], caso[\"latitude\"], caso[\"longitude\"])\n",
    "    tierra_plana.agregar_coordenada(coordenada)\n"
   ]
  },
  {
   "cell_type": "markdown",
   "metadata": {},
   "source": [
    "### **Caso 1**"
   ]
  },
  {
   "cell_type": "code",
   "execution_count": null,
   "metadata": {},
   "outputs": [],
   "source": [
    "cordenada1 = tierra_plana.get_coordenada(\"Universidad Nacional\")\n",
    "cordenada2 = tierra_plana.get_coordenada(\"Universidad Uniminuto\")\n",
    "distancia_coordenadas = tierra_plana.distancia_entre_coordenadas(cordenada1,cordenada2) \n",
    "\n",
    "print(f\"La distancia entre las siguientes coordenadas es {distancia_coordenadas:.2f} KM\")\n",
    "print(cordenada1)\n",
    "print(cordenada2)\n",
    "\n",
    "miMapa = Mapa()\n",
    "miMapa.crear_mapa(cordenada1,cordenada2)"
   ]
  },
  {
   "cell_type": "markdown",
   "metadata": {},
   "source": [
    "### **Caso 2**"
   ]
  },
  {
   "cell_type": "code",
   "execution_count": null,
   "metadata": {},
   "outputs": [],
   "source": [
    "cordenada3 = tierra_plana.get_coordenada(\"Casa de mi EX\")\n",
    "cordenada4 = tierra_plana.get_coordenada(\"Universidad del Quindio\")\n",
    "distancia_coordenadas = tierra_plana.distancia_entre_coordenadas(cordenada3,cordenada4) \n",
    "\n",
    "print(f\"La distancia entre las siguientes coordenadas es {distancia_coordenadas:.2f} KM\")\n",
    "print(cordenada3)\n",
    "print(cordenada4)\n",
    "\n",
    "miMapa = Mapa()\n",
    "miMapa.crear_mapa(cordenada3,cordenada4)"
   ]
  },
  {
   "cell_type": "markdown",
   "metadata": {},
   "source": [
    "### **Caso 3**"
   ]
  },
  {
   "cell_type": "code",
   "execution_count": null,
   "metadata": {},
   "outputs": [],
   "source": [
    "cordenada5 = tierra_plana.get_coordenada(\"Universidad industrial de Santander\")\n",
    "cordenada6 = tierra_plana.get_coordenada(\"Massachusetts institute of technology\")\n",
    "distancia_coordenadas = tierra_plana.distancia_entre_coordenadas(cordenada5,cordenada6) \n",
    "\n",
    "print(f\"La distancia entre las siguientes coordenadas es {distancia_coordenadas:.2f} KM\")\n",
    "print(cordenada5)\n",
    "print(cordenada6)\n",
    "\n",
    "miMapa = Mapa()\n",
    "miMapa.crear_mapa(cordenada5,cordenada6)"
   ]
  },
  {
   "cell_type": "markdown",
   "metadata": {},
   "source": []
  },
  {
   "cell_type": "markdown",
   "metadata": {},
   "source": [
    "\n",
    "### 2. Análisis del área de la Laguna de Fúquene\n",
    "La Laguna de Fúquene tiene un área que varía cada dos décadas, contrayéndose y expandiéndose.\n",
    "\n",
    "Para ayudar a los gobernadores de Boyacá y Cundinamarca a tomar decisiones sobre el desplazamiento de campesinos y la delimitación de fincas, se solicita determinar el porcentaje del área de crecimiento de la laguna (diferencia entre las áreas máxima y mínima). Pueden utilizar el método que deseen. \n",
    "\n",
    "#### Requisitos:\n",
    "- Presentar el resultado final en un mapa dinámico.\n",
    "- Sustentar el análisis con datos y metodología utilizada.\n",
    "\n",
    "---"
   ]
  },
  {
   "cell_type": "code",
   "execution_count": null,
   "metadata": {},
   "outputs": [],
   "source": []
  },
  {
   "cell_type": "markdown",
   "metadata": {},
   "source": [
    "---\n",
    "## Bibliografía sugerida\n",
    "- J. A. E. García Álvarez, “ASÍ FUNCIONA EL GPS,” 2015. [Online]. Available: [https://goo.gl/eXsp7K](https://goo.gl/eXsp7K). [Accessed: 25-Feb-2017].\n",
    "- C. Beatty, “Location-Based Services: Navigation for the Masses, At Last!,” Journal of Navigation, 30-May-2002. [Online]. Available: [https://goo.gl/uXwEwI](https://goo.gl/uXwEwI). [Accessed: 12-Apr-2017]."
   ]
  }
 ],
 "metadata": {
  "kernelspec": {
   "display_name": "venv",
   "language": "python",
   "name": "python3"
  },
  "language_info": {
   "codemirror_mode": {
    "name": "ipython",
    "version": 3
   },
   "file_extension": ".py",
   "mimetype": "text/x-python",
   "name": "python",
   "nbconvert_exporter": "python",
   "pygments_lexer": "ipython3",
   "version": "3.12.7"
  }
 },
 "nbformat": 4,
 "nbformat_minor": 2
}
